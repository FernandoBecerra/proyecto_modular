{
 "cells": [
  {
   "cell_type": "code",
   "execution_count": 1,
   "metadata": {},
   "outputs": [],
   "source": [
    "from PIL import Image\n",
    "import numpy as np\n",
    "from matplotlib import pyplot as plt\n",
    "import matplotlib.image as mpimg\n",
    "import albumentations as A\n",
    "import os\n"
   ]
  },
  {
   "cell_type": "code",
   "execution_count": 2,
   "metadata": {},
   "outputs": [],
   "source": [
    "def visualize(image):\n",
    "    plt.figure(figsize=(5,5))\n",
    "    plt.axis('off')\n",
    "    plt.imshow(image)"
   ]
  },
  {
   "cell_type": "code",
   "execution_count": 3,
   "metadata": {},
   "outputs": [],
   "source": [
    "def save_image(image, path):\n",
    "    try:\n",
    "        save_img = Image.fromarray(image)\n",
    "        save_img.save(path)\n",
    "        return True\n",
    "    except ValueError as e:\n",
    "        print(e)\n",
    "        return print(e.__class__)\n",
    "        "
   ]
  },
  {
   "cell_type": "markdown",
   "metadata": {},
   "source": [
    "# Albumentations transormations"
   ]
  },
  {
   "cell_type": "code",
   "execution_count": 4,
   "metadata": {},
   "outputs": [],
   "source": [
    "def transformation_random(image):\n",
    "    \"\"\"\n",
    "    En esta funcion recibimos como entrada un np.array, se aplican las transformaciones\n",
    "    y retorna la imagen modificada.\n",
    "    \"\"\"\n",
    "    transform = A.Compose([\n",
    "            A.RandomRotate90(),\n",
    "            A.Flip(),\n",
    "            A.Transpose(),\n",
    "            A.OneOf([\n",
    "                A.GaussNoise(),\n",
    "            ], p=0.2),\n",
    "            A.OneOf([\n",
    "                A.MotionBlur(p=.2),\n",
    "                A.MedianBlur(blur_limit=3, p=0.1),\n",
    "                A.Blur(blur_limit=3, p=0.1),\n",
    "            ], p=0.2),\n",
    "            A.ShiftScaleRotate(shift_limit=0.0625, scale_limit=0.2, rotate_limit=45, p=0.2),\n",
    "            A.OneOf([\n",
    "                A.OpticalDistortion(p=0.3),\n",
    "                A.PiecewiseAffine(p=0.3),\n",
    "            ], p=0.2),\n",
    "            A.OneOf([\n",
    "                A.CLAHE(clip_limit=2),\n",
    "                A.Sharpen(),\n",
    "                A.Emboss(),\n",
    "                A.RandomBrightnessContrast(),            \n",
    "            ], p=0.3),\n",
    "            A.HueSaturationValue(p=0.3),\n",
    "        ]) \n",
    "    augmented_image = transform(image=image)['image']\n",
    "    return augmented_image\n",
    "\n",
    "def transformation_brightness(image):\n",
    "    \"\"\"\n",
    "    En esta funcion recibimos como entrada un np.array, se aplican un ajuste random al brillo\n",
    "    y retorna la imagen modificada.\n",
    "    \"\"\"\n",
    "    transform = A.Compose([\n",
    "        A.RandomBrightnessContrast(brightness_limit = 0.2, contrast_limit= 0.2)\n",
    "    ])\n",
    "    augmented_image = transform(image=image)['image']\n",
    "    return augmented_image\n",
    "\n",
    "def transformation_contrast(image):\n",
    "    \"\"\"\n",
    "    En esta funcion recibimos como entrada un np.array, se aplican un ajuste random al contraste\n",
    "    y retorna la imagen modificada.\n",
    "    \"\"\"\n",
    "    transform = A.Compose([\n",
    "        A.RandomContrast(limit=0.2)\n",
    "    ])\n",
    "    augmented_image = transform(image=image)['image']\n",
    "    return augmented_image\n",
    "\n",
    "def transformation_flip(image):\n",
    "    \"\"\"\n",
    "    En esta funcion recibimos como entrada un np.array, se aplican un ajuste random al giro\n",
    "    y retorna la imagen modificada.\n",
    "    \"\"\"\n",
    "    transform = A.Compose([\n",
    "        A.Flip()\n",
    "    ])\n",
    "    augmented_image = transform(image=image)['image']\n",
    "    return augmented_image\n",
    "\n",
    "def transformation_hue(image):\n",
    "    \"\"\"\n",
    "    En esta funcion recibimos como entrada un np.array, se aplican un ajuste random al HUE\n",
    "    y retorna la imagen modificada.\n",
    "    \"\"\"\n",
    "    transform = A.Compose([\n",
    "        A.HueSaturationValue()\n",
    "    ])\n",
    "    augmented_image = transform(image=image)['image']\n",
    "    return augmented_image\n",
    "\n",
    "def transformation_up_down(image):\n",
    "    \"\"\"\n",
    "    En esta funcion recibimos como entrada un np.array, se aplican un ajuste random al contraste\n",
    "    y retorna la imagen modificada.\n",
    "    \"\"\"\n",
    "    transform = A.Compose([\n",
    "        A.RandomRotate90(always_apply= True)\n",
    "    ])\n",
    "    augmented_image = transform(image=image)['image']\n",
    "    return augmented_image"
   ]
  },
  {
   "cell_type": "code",
   "execution_count": 6,
   "metadata": {},
   "outputs": [
    {
     "name": "stderr",
     "output_type": "stream",
     "text": [
      "C:\\Users\\Gonzalo\\AppData\\Local\\Packages\\PythonSoftwareFoundation.Python.3.10_qbz5n2kfra8p0\\LocalCache\\local-packages\\Python310\\site-packages\\albumentations\\augmentations\\transforms.py:1175: FutureWarning: RandomContrast has been deprecated. Please use RandomBrightnessContrast\n",
      "  warnings.warn(\n"
     ]
    }
   ],
   "source": [
    "\"\"\"\n",
    "Abrir carpeta con imagenes, aplicar cada filtro en cada imagen \n",
    "guardar en sub-carpeta dentro de la carpeta de la imagen.\n",
    "\"\"\"\n",
    "import os\n",
    "\n",
    "cont = 200\n",
    "signs =  os.listdir(r'E:\\Dataset\\Interprete\\Fotos\\Entrenamiento')\n",
    "\n",
    "for sign in signs:\n",
    "    path = f'E:\\Dataset\\Interprete\\Fotos\\Entrenamiento\\{sign}'\n",
    "    final_path = f'E:\\Dataset\\Interprete\\Fotos\\Entrenamiento\\{sign}\\\\augmented'\n",
    "    if not os.path.exists(final_path):\n",
    "        os.mkdir(final_path)\n",
    "        \n",
    "    for image in os.listdir(path):\n",
    "        # Cargamos la ruta a la imagen\n",
    "        image_path = os.path.join(path, image)\n",
    "    \n",
    "\n",
    "        # Descartamos el subdirectorio \n",
    "        if not os.path.isdir(image_path):\n",
    "            # Abrimos la imagen \n",
    "            image = Image.open(image_path)\n",
    "\n",
    "            # La transformamos a un arreglo de numpy\n",
    "            image_array = np.array(image)\n",
    "\n",
    "            #Aplicamos las transformaciones\n",
    "            images = (\n",
    "            transformation_random(image_array),\n",
    "            transformation_brightness(image_array),\n",
    "            transformation_contrast(image_array),\n",
    "            transformation_flip(image_array),\n",
    "            transformation_hue(image_array),\n",
    "            transformation_up_down(image_array)\n",
    "            )\n",
    "\n",
    "            for img in images:\n",
    "                # Creamos la ruta final\n",
    "                temp_path = f'{final_path}\\{sign}_{str(cont)}.jpg'\n",
    "                final_image = Image.fromarray(img)\n",
    "                final_image.save(temp_path)\n",
    "                cont += 1\n",
    "    cont = 200"
   ]
  },
  {
   "cell_type": "code",
   "execution_count": null,
   "metadata": {},
   "outputs": [],
   "source": []
  }
 ],
 "metadata": {
  "kernelspec": {
   "display_name": "Python 3.10.8 64-bit (microsoft store)",
   "language": "python",
   "name": "python3"
  },
  "language_info": {
   "codemirror_mode": {
    "name": "ipython",
    "version": 3
   },
   "file_extension": ".py",
   "mimetype": "text/x-python",
   "name": "python",
   "nbconvert_exporter": "python",
   "pygments_lexer": "ipython3",
   "version": "3.10.8"
  },
  "orig_nbformat": 4,
  "vscode": {
   "interpreter": {
    "hash": "341ccfbf17e5052fe53f29dd481ae86cf875b54cbad5321eda69531403f7fdd9"
   }
  }
 },
 "nbformat": 4,
 "nbformat_minor": 2
}
