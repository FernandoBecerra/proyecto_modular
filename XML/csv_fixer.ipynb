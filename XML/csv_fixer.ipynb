{
 "cells": [
  {
   "cell_type": "code",
   "execution_count": 77,
   "metadata": {},
   "outputs": [],
   "source": [
    "import pandas as pd\n",
    "import ast\n",
    "import glob\n",
    "import xml.etree.ElementTree as ET"
   ]
  },
  {
   "cell_type": "code",
   "execution_count": 61,
   "metadata": {},
   "outputs": [],
   "source": [
    "df = pd.read_csv('train_labels_2.csv')"
   ]
  },
  {
   "cell_type": "code",
   "execution_count": 62,
   "metadata": {},
   "outputs": [],
   "source": [
    "filename = df['filename'].tolist()\n",
    "true_class = [name.replace('xml', 'jpg') for name in filename]"
   ]
  },
  {
   "cell_type": "code",
   "execution_count": 63,
   "metadata": {},
   "outputs": [
    {
     "name": "stdout",
     "output_type": "stream",
     "text": [
      "['G_283.jpg', 'G_1093.jpg', 'F_901.jpg', 'G_1129.jpg', 'F_80.jpg']\n"
     ]
    }
   ],
   "source": [
    "print(true_class[:5])"
   ]
  },
  {
   "cell_type": "code",
   "execution_count": 64,
   "metadata": {},
   "outputs": [],
   "source": [
    "final_df = df.copy()\n"
   ]
  },
  {
   "cell_type": "code",
   "execution_count": 65,
   "metadata": {},
   "outputs": [],
   "source": [
    "final_df['filename'] = true_class"
   ]
  },
  {
   "cell_type": "code",
   "execution_count": 66,
   "metadata": {},
   "outputs": [
    {
     "name": "stdout",
     "output_type": "stream",
     "text": [
      "      Unnamed: 0    filename  width  height       class  xmin  ymin  xmax  \\\n",
      "0              0   G_283.jpg    320     320   G_283.jpg     1     1   320   \n",
      "1              1  G_1093.jpg    320     320  G_1093.jpg     1     1   320   \n",
      "2              2   F_901.jpg    320     320   F_901.jpg     1     1   320   \n",
      "3              3  G_1129.jpg    320     320  G_1129.jpg     1     1   320   \n",
      "4              4    F_80.jpg    320     320    F_80.jpg     1     1   320   \n",
      "...          ...         ...    ...     ...         ...   ...   ...   ...   \n",
      "7557        7557   G_921.jpg    320     320   G_921.jpg     1     1   320   \n",
      "7558        7558   G_922.jpg    320     320   G_922.jpg     1     1   320   \n",
      "7559        7559   G_930.jpg    320     320   G_930.jpg     1     1   320   \n",
      "7560        7560   G_927.jpg    320     320   G_927.jpg     1     1   320   \n",
      "7561        7561   G_925.jpg    320     320   G_925.jpg     1     1   320   \n",
      "\n",
      "      ymax  \n",
      "0      320  \n",
      "1      320  \n",
      "2      320  \n",
      "3      320  \n",
      "4      320  \n",
      "...    ...  \n",
      "7557   320  \n",
      "7558   320  \n",
      "7559   320  \n",
      "7560   320  \n",
      "7561   320  \n",
      "\n",
      "[7562 rows x 9 columns]\n"
     ]
    }
   ],
   "source": [
    "final_df['class'] = true_class\n",
    "print(final_df)"
   ]
  },
  {
   "cell_type": "code",
   "execution_count": 67,
   "metadata": {},
   "outputs": [],
   "source": [
    "final_df.to_csv('train_labels_3.csv')"
   ]
  },
  {
   "cell_type": "code",
   "execution_count": 73,
   "metadata": {},
   "outputs": [],
   "source": [
    "def  fix_csv(path: list):\n",
    "    test_df = pd.read_csv(path[0])\n",
    "    train_df = pd.read_csv(path[1])\n",
    "\n",
    "    filename_test = test_df['filename'].tolist()\n",
    "    filename_train = train_df['filename'].tolist()\n",
    "\n",
    "    class_test = test_df['class'].tolist()\n",
    "    class_train = train_df['class'].tolist()\n",
    "\n",
    "    true_filename_test = [name.replace('xml', 'jpg') for name in filename_test]\n",
    "    true_filename_train = [name.replace('xml', 'jpg') for name in filename_train]\n",
    "\n",
    "    true_class_test = [name.split('_')[0] for name in class_test]\n",
    "    true_class_train = [name.split('_')[0] for name in class_train]\n",
    "\n",
    "    final_df_test = test_df.copy()\n",
    "    final_df_train = train_df.copy()\n",
    "\n",
    "    final_df_test['filename'] = true_filename_test\n",
    "    final_df_train['filename']= true_filename_train\n",
    "\n",
    "    final_df_test['class'] = true_class_test\n",
    "    final_df_train['class'] = true_class_train\n",
    "\n",
    "    return final_df_test,  final_df_train"
   ]
  },
  {
   "cell_type": "code",
   "execution_count": 74,
   "metadata": {},
   "outputs": [],
   "source": [
    "test, train = fix_csv(['test_labels.csv', 'train_labels.csv'])\n"
   ]
  },
  {
   "cell_type": "code",
   "execution_count": 75,
   "metadata": {},
   "outputs": [
    {
     "name": "stdout",
     "output_type": "stream",
     "text": [
      "        filename  width  height class  xmin  ymin  xmax  ymax\n",
      "0      W_249.jpg    320     320     A     1     1   320   320\n",
      "1      X_661.jpg    320     320     A     1     1   320   320\n",
      "2     W_1297.jpg    320     320     A     1     1   320   320\n",
      "3      W_225.jpg    320     320     A     1     1   320   320\n",
      "4      X_873.jpg    320     320     A     1     1   320   320\n",
      "...          ...    ...     ...   ...   ...   ...   ...   ...\n",
      "7555    B_15.jpg    320     320     A     1     1   320   320\n",
      "7556   A_163.jpg    320     320     A     1     1   320   320\n",
      "7557   D_641.jpg    320     320     A     1     1   320   320\n",
      "7558   E_863.jpg    320     320     A     1     1   320   320\n",
      "7559   A_656.jpg    320     320     A     1     1   320   320\n",
      "\n",
      "[7560 rows x 8 columns]\n"
     ]
    }
   ],
   "source": [
    "print(test)"
   ]
  },
  {
   "cell_type": "code",
   "execution_count": 76,
   "metadata": {},
   "outputs": [
    {
     "name": "stdout",
     "output_type": "stream",
     "text": [
      "        filename  width  height class  xmin  ymin  xmax  ymax\n",
      "0      G_283.jpg    320     320     A     1     1   320   320\n",
      "1     G_1093.jpg    320     320     A     1     1   320   320\n",
      "2      F_901.jpg    320     320     A     1     1   320   320\n",
      "3     G_1129.jpg    320     320     A     1     1   320   320\n",
      "4       F_80.jpg    320     320     A     1     1   320   320\n",
      "...          ...    ...     ...   ...   ...   ...   ...   ...\n",
      "7587  H_1098.jpg    320     320     A     1     1   320   320\n",
      "7588  H_1088.jpg    320     320     A     1     1   320   320\n",
      "7589  H_1101.jpg    320     320     A     1     1   320   320\n",
      "7590    H_11.jpg    320     320     A     1     1   320   320\n",
      "7591   H_109.jpg    320     320     A     1     1   320   320\n",
      "\n",
      "[7592 rows x 8 columns]\n"
     ]
    }
   ],
   "source": [
    "print(train)"
   ]
  },
  {
   "cell_type": "code",
   "execution_count": 78,
   "metadata": {},
   "outputs": [],
   "source": [
    "def xml_to_csv(path):\n",
    "  classes_names = []\n",
    "  xml_list = []\n",
    "\n",
    "  for xml_file in glob.glob(path + '/*.xml'):\n",
    "    tree = ET.parse(xml_file)\n",
    "    root = tree.getroot()\n",
    "    for member in root.findall('object'):\n",
    "      classes_names.append(member[0].text)\n",
    "      value = (root.find('filename').text  ,       \n",
    "               int(root.find('size')[0].text),\n",
    "               int(root.find('size')[1].text),\n",
    "               member[0].text,\n",
    "               int(member[4][0].text),\n",
    "               int(member[4][1].text),\n",
    "               int(member[4][2].text),\n",
    "               int(member[4][3].text))\n",
    "      xml_list.append(value)\n",
    "  \n",
    "  return xml_list"
   ]
  },
  {
   "cell_type": "code",
   "execution_count": null,
   "metadata": {},
   "outputs": [],
   "source": []
  }
 ],
 "metadata": {
  "kernelspec": {
   "display_name": "Python 3.9.13 ('base')",
   "language": "python",
   "name": "python3"
  },
  "language_info": {
   "codemirror_mode": {
    "name": "ipython",
    "version": 3
   },
   "file_extension": ".py",
   "mimetype": "text/x-python",
   "name": "python",
   "nbconvert_exporter": "python",
   "pygments_lexer": "ipython3",
   "version": "3.9.13"
  },
  "orig_nbformat": 4,
  "vscode": {
   "interpreter": {
    "hash": "91bb753b057673435fb8d6f6a083e6c818364728098c7ae050ca3a25357dd754"
   }
  }
 },
 "nbformat": 4,
 "nbformat_minor": 2
}
