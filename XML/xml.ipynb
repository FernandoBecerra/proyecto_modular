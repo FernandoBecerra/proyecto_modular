{
 "cells": [
  {
   "cell_type": "code",
   "execution_count": 1,
   "metadata": {},
   "outputs": [],
   "source": [
    "from fileinput import filename\n",
    "import queue\n",
    "from textwrap import indent\n",
    "import xml.etree.ElementTree as ET\n",
    "from xml.dom import minidom\n",
    "import os"
   ]
  },
  {
   "cell_type": "code",
   "execution_count": 2,
   "metadata": {},
   "outputs": [],
   "source": [
    "\"\"\"\n",
    "Generamos las variables de las etiquetas del archivo XML\n",
    "\"\"\"\n",
    "# Generamos nuestras las etiquetas (<folder>, <filename>, <path> y <source>) que se localizaran dentro de la etiqueta <annotation>\n",
    "xml_doc = ET.Element('annotation')\n",
    "item_folder = ET.SubElement(xml_doc, 'folder')\n",
    "item_filename = ET.SubElement(xml_doc, 'filename')\n",
    "item_path = ET.SubElement(xml_doc, 'path')\n",
    "# Generamos la etiqueta <database> que se localizara dentro de la etiqueta <source>\n",
    "item_source = ET.SubElement(xml_doc, 'source')\n",
    "item_database = ET.SubElement(item_source, 'database')\n",
    "# Generamos las variables que se localizaran dentro de la etiqueta <size>\n",
    "item_size = ET.SubElement(xml_doc, 'size')\n",
    "item_width = ET.SubElement(item_size, 'width')\n",
    "item_height = ET.SubElement(item_size, 'height')\n",
    "item_depth = ET.SubElement(item_size, 'depth')\n",
    "# <segmented>\n",
    "item_segmented = ET.SubElement(xml_doc, 'segmented')\n",
    "# Generamos las etiquetas (<name>, <pose>, <truncated>, <difficult>, <bndbox>) que se localizaran dentro de la etiqueta <object>\n",
    "item_object = ET.SubElement(xml_doc, 'object')\n",
    "item_name = ET.SubElement(item_object, 'name')\n",
    "item_pose = ET.SubElement(item_object, 'pose')\n",
    "item_truncated = ET.SubElement(item_object, 'truncated')\n",
    "item_difficult = ET.SubElement(item_object, 'difficult')\n",
    "# Generamos las etiquetas (<xmin>, <ymin>, <xmax>,<ymax>) que se localizaran dentro de la etiqueta <bndbox>\n",
    "item_bndbox = ET.SubElement(item_object, 'bndbox')\n",
    "item_xmin = ET.SubElement(item_bndbox, 'xmin')\n",
    "item_ymin = ET.SubElement(item_bndbox, 'ymin')\n",
    "item_xmax = ET.SubElement(item_bndbox, 'xmax')\n",
    "item_ymax = ET.SubElement(item_bndbox, 'ymax')"
   ]
  },
  {
   "cell_type": "code",
   "execution_count": 7,
   "metadata": {},
   "outputs": [],
   "source": [
    "\"\"\"\n",
    "Generamos las variables dinamicas que proporcionaran los valores a las etiquetas XML\n",
    "\"\"\"\n",
    "folder_content = 'Data Set Prueba'\n",
    "database_content = 'Lenguaje de Senas Mexicano '\n",
    "item_width_content = '320'\n",
    "item_height_content = '320'\n",
    "item_depth_content = '3'\n",
    "item_segmented_content = '0'\n",
    "item_name_content = 'A'\n",
    "item_pose_content = 'Unspecified'\n",
    "item_truncated_content = '0'\n",
    "item_difficult_content = '0'\n",
    "item_xmin_content = '1'\n",
    "item_ymin_content = '1'\n",
    "item_xmax_content = '320'\n",
    "item_ymax_content = '320'"
   ]
  },
  {
   "cell_type": "code",
   "execution_count": 8,
   "metadata": {},
   "outputs": [],
   "source": [
    "def prettify(elem, indent='    '):\n",
    "    \"\"\"\n",
    "    Regresa una version ordenada del archivo XML \n",
    "    \"\"\"\n",
    "    queue = [(0, elem)]  # (Nivel, elemento)\n",
    "    while queue:\n",
    "        level, elem = queue.pop(0)\n",
    "        children = [(level+1, child) for child in list(elem)]\n",
    "        if children:\n",
    "            elem.text = '\\n' + indent * (level+1)  # Children\n",
    "        if queue:\n",
    "            elem.tail = '\\n' + indent * queue[0][0]  # Sibling\n",
    "        else:\n",
    "            elem.tail = '\\n' + indent * (level-1)  # Parent close\n",
    "        # Agregamos a los children antes que a los sibling\n",
    "        queue[0:0] = children"
   ]
  },
  {
   "cell_type": "code",
   "execution_count": 9,
   "metadata": {},
   "outputs": [],
   "source": [
    "folders = os.listdir('E:\\Dataset\\Entrenamiento')\n",
    "for folder in folders:\n",
    "    path = os.path.join('E:\\Dataset\\Entrenamiento', folder)\n",
    "    for image in os.listdir(path):\n",
    "        item_folder.text = folder_content\n",
    "        item_filename.text = os.path.basename(image)\n",
    "        item_path.text = os.path.basename(image)\n",
    "        item_database.text = database_content\n",
    "        item_width.text = item_width_content\n",
    "        item_height.text = item_height_content\n",
    "        item_depth.text = item_depth_content\n",
    "        item_segmented.text = item_segmented_content\n",
    "        item_name.text = item_name_content\n",
    "        item_pose.text =  item_pose_content\n",
    "        item_truncated.text = item_truncated_content\n",
    "        item_difficult.text = item_difficult_content\n",
    "        item_xmin.text = item_xmin_content\n",
    "        item_ymin.text = item_ymin_content\n",
    "        item_xmax.text = item_xmax_content\n",
    "        item_ymax.text = item_ymax_content\n",
    "        prettify(xml_doc)\n",
    "        tree = ET.ElementTree(xml_doc)\n",
    "        tree.write(f'E:\\Dataset\\Entrenamiento\\Labels\\\\{image.split(\".\", 1)[0]}.xml')\n"
   ]
  },
  {
   "cell_type": "code",
   "execution_count": 30,
   "metadata": {},
   "outputs": [
    {
     "name": "stdout",
     "output_type": "stream",
     "text": [
      "{'id': 1, 'name': 'A'}\n",
      "{'id': 2, 'name': 'B'}\n",
      "{'id': 3, 'name': 'C'}\n",
      "{'id': 4, 'name': 'D'}\n",
      "{'id': 5, 'name': 'E'}\n",
      "{'id': 6, 'name': 'F'}\n",
      "{'id': 7, 'name': 'G'}\n",
      "{'id': 8, 'name': 'H'}\n",
      "{'id': 9, 'name': 'I'}\n",
      "{'id': 10, 'name': 'J'}\n",
      "{'id': 11, 'name': 'K'}\n",
      "{'id': 12, 'name': 'L'}\n",
      "{'id': 13, 'name': 'M'}\n",
      "{'id': 14, 'name': 'N'}\n",
      "{'id': 15, 'name': 'O'}\n",
      "{'id': 16, 'name': 'P'}\n",
      "{'id': 17, 'name': 'Q'}\n",
      "{'id': 18, 'name': 'R'}\n",
      "{'id': 19, 'name': 'S'}\n",
      "{'id': 20, 'name': 'T'}\n",
      "{'id': 21, 'name': 'U'}\n",
      "{'id': 22, 'name': 'V'}\n",
      "{'id': 23, 'name': 'W'}\n",
      "{'id': 24, 'name': 'X'}\n",
      "{'id': 25, 'name': 'Y'}\n",
      "{'id': 26, 'name': 'Z'}\n",
      "{'id': 27, 'name': 'Ñ'}\n"
     ]
    }
   ],
   "source": [
    "letters = [character for character in os.listdir('E:\\Dataset\\Entrenamiento')]\n",
    "id = [number+1 for number,_ in enumerate(letters)]\n",
    "keys = ['Item' for _ in range(27)]\n",
    "\n",
    "for index in range(27):\n",
    "    Item = {'id':id[index], 'name': letters[index]}\n",
    "    print(Item)"
   ]
  }
 ],
 "metadata": {
  "kernelspec": {
   "display_name": "Python 3.10.8 64-bit (microsoft store)",
   "language": "python",
   "name": "python3"
  },
  "language_info": {
   "codemirror_mode": {
    "name": "ipython",
    "version": 3
   },
   "file_extension": ".py",
   "mimetype": "text/x-python",
   "name": "python",
   "nbconvert_exporter": "python",
   "pygments_lexer": "ipython3",
   "version": "3.10.8"
  },
  "orig_nbformat": 4,
  "vscode": {
   "interpreter": {
    "hash": "341ccfbf17e5052fe53f29dd481ae86cf875b54cbad5321eda69531403f7fdd9"
   }
  }
 },
 "nbformat": 4,
 "nbformat_minor": 2
}
